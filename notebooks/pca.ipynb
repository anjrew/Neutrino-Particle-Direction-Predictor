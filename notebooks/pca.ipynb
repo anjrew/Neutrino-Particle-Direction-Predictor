{
 "cells": [
  {
   "attachments": {},
   "cell_type": "markdown",
   "metadata": {},
   "source": [
    "# Simple PCA line prediction\n",
    "\n",
    "This notebook uses PCA to predict the line of best fit to the data. It uses a single PCA component to predict the line of best fit to the data and reducing the dimensionality of the data to 1."
   ]
  },
  {
   "cell_type": "code",
   "execution_count": 1,
   "metadata": {},
   "outputs": [],
   "source": [
    "import sys\n",
    "sys.path.append('..')\n",
    "\n",
    "from typing import Optional\n",
    "import pandas as pd \n",
    "from scripts.utils import seed_it_all\n",
    "from scripts.plot import compose_event_df, plot_pca, get_event_true_values"
   ]
  },
  {
   "cell_type": "code",
   "execution_count": 2,
   "metadata": {},
   "outputs": [],
   "source": [
    "\n",
    "EVENT: Optional[int] = 1220830349 # set to None to use a random event, or set to a specific event id\n",
    "EXCLUDE_AUXILIARY= False # set to True to exclude auxiliary sensor readings\n",
    "IS_TRAINING = True # set to True to use the training data, or False to use the test data\n",
    "\n",
    "# DO NOT CHANGE THESE VARIABLES\n",
    "DATA_DIR = \"../data\"\n",
    "DATA_SET = 'train' if IS_TRAINING else 'test'"
   ]
  },
  {
   "cell_type": "code",
   "execution_count": 3,
   "metadata": {},
   "outputs": [],
   "source": [
    "seed_it_all(10)"
   ]
  },
  {
   "cell_type": "code",
   "execution_count": 4,
   "metadata": {},
   "outputs": [],
   "source": [
    "meta_df = pd.read_parquet(f'{DATA_DIR}/{DATA_SET}_meta.parquet')\n",
    "sensor_geometry = pd.read_csv(f'{DATA_DIR}/sensor_geometry.csv', index_col=0)"
   ]
  },
  {
   "attachments": {},
   "cell_type": "markdown",
   "metadata": {},
   "source": [
    "## Plot the result\n",
    "\n",
    "Execute the following code to plot the predicted line vs truth."
   ]
  },
  {
   "cell_type": "code",
   "execution_count": 5,
   "metadata": {},
   "outputs": [
    {
     "name": "stdout",
     "output_type": "stream",
     "text": [
      "Plotting event_id: 1220830349\n"
     ]
    },
    {
     "data": {
      "application/vnd.plotly.v1+json": {
       "config": {
        "plotlyServerURL": "https://plot.ly"
       },
       "data": [
        {
         "hovertemplate": "\n                    <b>X:</b> %{x}\n                    <br>\n                    <b>Y:</b> %{y}\n                    <br>\n                    <b>Z:</b> %{z}\n                    <br>\n                    <b>Charge (x marker_size):</b> %{marker.size:.2f}<br>\n                    <b>Time:</b> %{marker.color:.2f}\n                ",
         "marker": {
          "color": [
           6303,
           6317,
           6730,
           7227,
           7478,
           8305,
           8325,
           9290,
           9387,
           9824,
           9860,
           9865,
           9943,
           9967,
           9970,
           10022,
           10025,
           10099,
           10113,
           10133,
           10204,
           10273,
           10763,
           10836,
           10944,
           10956,
           11102,
           11106,
           11233,
           11261,
           11279,
           11292,
           11464,
           11470,
           11615,
           11698,
           11790,
           11803,
           11824,
           11843,
           11860,
           11977,
           12078,
           12107,
           12434,
           12743,
           12927,
           13036,
           13122,
           13311,
           13934,
           14303,
           15384,
           15395,
           15525,
           15794,
           16500,
           16581,
           17112,
           17701,
           18088,
           18274
          ],
          "colorbar": {
           "title": {
            "text": "Time"
           }
          },
          "opacity": 0.8,
          "size": [
           8.700000286102295,
           9.299999713897705,
           16.5,
           7.5,
           6.8999998569488525,
           8.700000286102295,
           17.700000286102295,
           12.299999713897705,
           10.5,
           6.8999998569488525,
           12.299999713897705,
           12.299999713897705,
           6.8999998569488525,
           10.5,
           12.90000057220459,
           11.700000286102295,
           10.5,
           8.100000143051147,
           14.09999942779541,
           15.299999713897705,
           17.09999942779541,
           7.5,
           19.5,
           12.90000057220459,
           17.700000286102295,
           11.100000143051147,
           11.700000286102295,
           12.299999713897705,
           3.8999998569488525,
           8.100000143051147,
           7.5,
           12.299999713897705,
           15.299999713897705,
           10.5,
           5.699999928474426,
           15.90000057220459,
           10.5,
           8.700000286102295,
           9.899999856948853,
           9.899999856948853,
           12.90000057220459,
           11.100000143051147,
           4.5,
           10.5,
           11.100000143051147,
           3.8999998569488525,
           5.699999928474426,
           12.299999713897705,
           14.700000286102295,
           14.700000286102295,
           13.5,
           10.5,
           10.5,
           7.5,
           11.100000143051147,
           14.700000286102295,
           9.899999856948853,
           15.299999713897705,
           8.700000286102295,
           12.299999713897705,
           11.700000286102295,
           8.700000286102295
          ]
         },
         "mode": "markers",
         "name": "Detected",
         "type": "scatter3d",
         "x": [
          -290.66,
          124.97,
          54.26,
          443.89,
          361,
          158.94,
          -88.05,
          1.71,
          443.71,
          194.34,
          124.97,
          124.97,
          -66.7,
          124.97,
          124.97,
          124.97,
          46.29,
          124.97,
          124.97,
          -392.38,
          124.97,
          -437.04,
          210.47,
          210.47,
          210.47,
          210.47,
          210.47,
          210.47,
          -132.8,
          303.41,
          248.15,
          210.47,
          257.31,
          -21.97,
          210.47,
          326.85,
          443.89,
          210.47,
          326.85,
          -166.4,
          79.41,
          158.94,
          1.71,
          210.47,
          371.56,
          405.83,
          210.47,
          79.41,
          -211.35,
          -334.8,
          11.87,
          35.54,
          -290.66,
          500.43,
          -88.05,
          -66.7,
          194.34,
          -334.8,
          405.83,
          292.9,
          -189.98,
          -368.93
         ],
         "y": [
          -307.38,
          -131.25,
          292.97,
          -194.5,
          -422.83,
          -345.23,
          -384.3,
          -150.63,
          -194.52,
          -30.92,
          -131.25,
          -131.25,
          276.92,
          -131.25,
          -131.25,
          -131.25,
          -34.88,
          -131.25,
          -131.25,
          334.24,
          -131.25,
          217.8,
          -209.77,
          -209.77,
          -209.77,
          -209.77,
          -209.77,
          -209.77,
          -501.45,
          335.64,
          -111.87,
          -209.77,
          211.66,
          393.24,
          -209.77,
          -209.07,
          -194.5,
          -209.77,
          -209.07,
          -287.79,
          -248.24,
          -345.23,
          -150.63,
          -209.77,
          -92.18,
          -306.38,
          -209.77,
          -248.24,
          -404.48,
          -424.5,
          179.19,
          -364.83,
          -307.38,
          -58.45,
          -384.3,
          276.92,
          -30.92,
          -424.5,
          -306.38,
          5.2,
          257.42,
          -210.23
         ],
         "z": [
          95.65,
          272.38,
          -3.09,
          6.05,
          -436.63,
          176.44,
          -402.08,
          -149.53,
          -62.03,
          384.95,
          425.57,
          425.57,
          -234.07,
          425.57,
          408.55,
          459.61,
          449.91,
          425.57,
          493.65,
          434.71,
          340.47,
          161.05,
          207.59,
          190.57,
          139.51,
          122.49,
          139.51,
          105.47,
          397.95,
          -304.04,
          327.83,
          241.63,
          -193.43,
          74.3,
          241.63,
          -29.22,
          6.05,
          88.45,
          192.05,
          429.45,
          -420.22,
          448.77,
          -149.53,
          241.63,
          43.02,
          273.86,
          258.65,
          -284.05,
          481.61,
          -384.48,
          -229.55,
          276.44,
          95.65,
          348.67,
          -436.13,
          -234.07,
          129.64,
          -384.48,
          273.86,
          99.93,
          -366.7,
          -163.27
         ]
        },
        {
         "line": {
          "color": "red",
          "width": 3
         },
         "marker": {
          "color": "red",
          "size": 4
         },
         "name": "Predicted",
         "type": "scatter3d",
         "x": [
          346.9990443877889,
          -149.99904438778896
         ],
         "y": [
          -252.30202908234597,
          -24.902164466041057
         ],
         "z": [
          810.112182801012,
          -603.8118602203668
         ]
        },
        {
         "line": {
          "color": "green",
          "width": 3
         },
         "marker": {
          "color": "green",
          "size": 4
         },
         "name": "Truth",
         "type": "scatter3d",
         "x": [
          -478.82636432183085,
          478.82636432183085
         ],
         "y": [
          -199.391626990844,
          199.391626990844
         ],
         "z": [
          -552.6690161781141,
          552.6690161781141
         ]
        }
       ],
       "layout": {
        "annotations": [
         {
          "align": "left",
          "font": {
           "size": 16
          },
          "showarrow": false,
          "text": "\n                    <b>exclude_axillary:</b> False\n                    <br>\n                    <b>time_threshold:</b> None\n                    <br>\n                    <b>charge_threshold:</b> None\n                    <br>\n                ",
          "x": 0,
          "xref": "paper",
          "y": 0,
          "yref": "paper"
         }
        ],
        "height": 800,
        "legend": {
         "x": 0,
         "y": 1
        },
        "showlegend": true,
        "template": {
         "data": {
          "bar": [
           {
            "error_x": {
             "color": "#2a3f5f"
            },
            "error_y": {
             "color": "#2a3f5f"
            },
            "marker": {
             "line": {
              "color": "#E5ECF6",
              "width": 0.5
             },
             "pattern": {
              "fillmode": "overlay",
              "size": 10,
              "solidity": 0.2
             }
            },
            "type": "bar"
           }
          ],
          "barpolar": [
           {
            "marker": {
             "line": {
              "color": "#E5ECF6",
              "width": 0.5
             },
             "pattern": {
              "fillmode": "overlay",
              "size": 10,
              "solidity": 0.2
             }
            },
            "type": "barpolar"
           }
          ],
          "carpet": [
           {
            "aaxis": {
             "endlinecolor": "#2a3f5f",
             "gridcolor": "white",
             "linecolor": "white",
             "minorgridcolor": "white",
             "startlinecolor": "#2a3f5f"
            },
            "baxis": {
             "endlinecolor": "#2a3f5f",
             "gridcolor": "white",
             "linecolor": "white",
             "minorgridcolor": "white",
             "startlinecolor": "#2a3f5f"
            },
            "type": "carpet"
           }
          ],
          "choropleth": [
           {
            "colorbar": {
             "outlinewidth": 0,
             "ticks": ""
            },
            "type": "choropleth"
           }
          ],
          "contour": [
           {
            "colorbar": {
             "outlinewidth": 0,
             "ticks": ""
            },
            "colorscale": [
             [
              0,
              "#0d0887"
             ],
             [
              0.1111111111111111,
              "#46039f"
             ],
             [
              0.2222222222222222,
              "#7201a8"
             ],
             [
              0.3333333333333333,
              "#9c179e"
             ],
             [
              0.4444444444444444,
              "#bd3786"
             ],
             [
              0.5555555555555556,
              "#d8576b"
             ],
             [
              0.6666666666666666,
              "#ed7953"
             ],
             [
              0.7777777777777778,
              "#fb9f3a"
             ],
             [
              0.8888888888888888,
              "#fdca26"
             ],
             [
              1,
              "#f0f921"
             ]
            ],
            "type": "contour"
           }
          ],
          "contourcarpet": [
           {
            "colorbar": {
             "outlinewidth": 0,
             "ticks": ""
            },
            "type": "contourcarpet"
           }
          ],
          "heatmap": [
           {
            "colorbar": {
             "outlinewidth": 0,
             "ticks": ""
            },
            "colorscale": [
             [
              0,
              "#0d0887"
             ],
             [
              0.1111111111111111,
              "#46039f"
             ],
             [
              0.2222222222222222,
              "#7201a8"
             ],
             [
              0.3333333333333333,
              "#9c179e"
             ],
             [
              0.4444444444444444,
              "#bd3786"
             ],
             [
              0.5555555555555556,
              "#d8576b"
             ],
             [
              0.6666666666666666,
              "#ed7953"
             ],
             [
              0.7777777777777778,
              "#fb9f3a"
             ],
             [
              0.8888888888888888,
              "#fdca26"
             ],
             [
              1,
              "#f0f921"
             ]
            ],
            "type": "heatmap"
           }
          ],
          "heatmapgl": [
           {
            "colorbar": {
             "outlinewidth": 0,
             "ticks": ""
            },
            "colorscale": [
             [
              0,
              "#0d0887"
             ],
             [
              0.1111111111111111,
              "#46039f"
             ],
             [
              0.2222222222222222,
              "#7201a8"
             ],
             [
              0.3333333333333333,
              "#9c179e"
             ],
             [
              0.4444444444444444,
              "#bd3786"
             ],
             [
              0.5555555555555556,
              "#d8576b"
             ],
             [
              0.6666666666666666,
              "#ed7953"
             ],
             [
              0.7777777777777778,
              "#fb9f3a"
             ],
             [
              0.8888888888888888,
              "#fdca26"
             ],
             [
              1,
              "#f0f921"
             ]
            ],
            "type": "heatmapgl"
           }
          ],
          "histogram": [
           {
            "marker": {
             "pattern": {
              "fillmode": "overlay",
              "size": 10,
              "solidity": 0.2
             }
            },
            "type": "histogram"
           }
          ],
          "histogram2d": [
           {
            "colorbar": {
             "outlinewidth": 0,
             "ticks": ""
            },
            "colorscale": [
             [
              0,
              "#0d0887"
             ],
             [
              0.1111111111111111,
              "#46039f"
             ],
             [
              0.2222222222222222,
              "#7201a8"
             ],
             [
              0.3333333333333333,
              "#9c179e"
             ],
             [
              0.4444444444444444,
              "#bd3786"
             ],
             [
              0.5555555555555556,
              "#d8576b"
             ],
             [
              0.6666666666666666,
              "#ed7953"
             ],
             [
              0.7777777777777778,
              "#fb9f3a"
             ],
             [
              0.8888888888888888,
              "#fdca26"
             ],
             [
              1,
              "#f0f921"
             ]
            ],
            "type": "histogram2d"
           }
          ],
          "histogram2dcontour": [
           {
            "colorbar": {
             "outlinewidth": 0,
             "ticks": ""
            },
            "colorscale": [
             [
              0,
              "#0d0887"
             ],
             [
              0.1111111111111111,
              "#46039f"
             ],
             [
              0.2222222222222222,
              "#7201a8"
             ],
             [
              0.3333333333333333,
              "#9c179e"
             ],
             [
              0.4444444444444444,
              "#bd3786"
             ],
             [
              0.5555555555555556,
              "#d8576b"
             ],
             [
              0.6666666666666666,
              "#ed7953"
             ],
             [
              0.7777777777777778,
              "#fb9f3a"
             ],
             [
              0.8888888888888888,
              "#fdca26"
             ],
             [
              1,
              "#f0f921"
             ]
            ],
            "type": "histogram2dcontour"
           }
          ],
          "mesh3d": [
           {
            "colorbar": {
             "outlinewidth": 0,
             "ticks": ""
            },
            "type": "mesh3d"
           }
          ],
          "parcoords": [
           {
            "line": {
             "colorbar": {
              "outlinewidth": 0,
              "ticks": ""
             }
            },
            "type": "parcoords"
           }
          ],
          "pie": [
           {
            "automargin": true,
            "type": "pie"
           }
          ],
          "scatter": [
           {
            "fillpattern": {
             "fillmode": "overlay",
             "size": 10,
             "solidity": 0.2
            },
            "type": "scatter"
           }
          ],
          "scatter3d": [
           {
            "line": {
             "colorbar": {
              "outlinewidth": 0,
              "ticks": ""
             }
            },
            "marker": {
             "colorbar": {
              "outlinewidth": 0,
              "ticks": ""
             }
            },
            "type": "scatter3d"
           }
          ],
          "scattercarpet": [
           {
            "marker": {
             "colorbar": {
              "outlinewidth": 0,
              "ticks": ""
             }
            },
            "type": "scattercarpet"
           }
          ],
          "scattergeo": [
           {
            "marker": {
             "colorbar": {
              "outlinewidth": 0,
              "ticks": ""
             }
            },
            "type": "scattergeo"
           }
          ],
          "scattergl": [
           {
            "marker": {
             "colorbar": {
              "outlinewidth": 0,
              "ticks": ""
             }
            },
            "type": "scattergl"
           }
          ],
          "scattermapbox": [
           {
            "marker": {
             "colorbar": {
              "outlinewidth": 0,
              "ticks": ""
             }
            },
            "type": "scattermapbox"
           }
          ],
          "scatterpolar": [
           {
            "marker": {
             "colorbar": {
              "outlinewidth": 0,
              "ticks": ""
             }
            },
            "type": "scatterpolar"
           }
          ],
          "scatterpolargl": [
           {
            "marker": {
             "colorbar": {
              "outlinewidth": 0,
              "ticks": ""
             }
            },
            "type": "scatterpolargl"
           }
          ],
          "scatterternary": [
           {
            "marker": {
             "colorbar": {
              "outlinewidth": 0,
              "ticks": ""
             }
            },
            "type": "scatterternary"
           }
          ],
          "surface": [
           {
            "colorbar": {
             "outlinewidth": 0,
             "ticks": ""
            },
            "colorscale": [
             [
              0,
              "#0d0887"
             ],
             [
              0.1111111111111111,
              "#46039f"
             ],
             [
              0.2222222222222222,
              "#7201a8"
             ],
             [
              0.3333333333333333,
              "#9c179e"
             ],
             [
              0.4444444444444444,
              "#bd3786"
             ],
             [
              0.5555555555555556,
              "#d8576b"
             ],
             [
              0.6666666666666666,
              "#ed7953"
             ],
             [
              0.7777777777777778,
              "#fb9f3a"
             ],
             [
              0.8888888888888888,
              "#fdca26"
             ],
             [
              1,
              "#f0f921"
             ]
            ],
            "type": "surface"
           }
          ],
          "table": [
           {
            "cells": {
             "fill": {
              "color": "#EBF0F8"
             },
             "line": {
              "color": "white"
             }
            },
            "header": {
             "fill": {
              "color": "#C8D4E3"
             },
             "line": {
              "color": "white"
             }
            },
            "type": "table"
           }
          ]
         },
         "layout": {
          "annotationdefaults": {
           "arrowcolor": "#2a3f5f",
           "arrowhead": 0,
           "arrowwidth": 1
          },
          "autotypenumbers": "strict",
          "coloraxis": {
           "colorbar": {
            "outlinewidth": 0,
            "ticks": ""
           }
          },
          "colorscale": {
           "diverging": [
            [
             0,
             "#8e0152"
            ],
            [
             0.1,
             "#c51b7d"
            ],
            [
             0.2,
             "#de77ae"
            ],
            [
             0.3,
             "#f1b6da"
            ],
            [
             0.4,
             "#fde0ef"
            ],
            [
             0.5,
             "#f7f7f7"
            ],
            [
             0.6,
             "#e6f5d0"
            ],
            [
             0.7,
             "#b8e186"
            ],
            [
             0.8,
             "#7fbc41"
            ],
            [
             0.9,
             "#4d9221"
            ],
            [
             1,
             "#276419"
            ]
           ],
           "sequential": [
            [
             0,
             "#0d0887"
            ],
            [
             0.1111111111111111,
             "#46039f"
            ],
            [
             0.2222222222222222,
             "#7201a8"
            ],
            [
             0.3333333333333333,
             "#9c179e"
            ],
            [
             0.4444444444444444,
             "#bd3786"
            ],
            [
             0.5555555555555556,
             "#d8576b"
            ],
            [
             0.6666666666666666,
             "#ed7953"
            ],
            [
             0.7777777777777778,
             "#fb9f3a"
            ],
            [
             0.8888888888888888,
             "#fdca26"
            ],
            [
             1,
             "#f0f921"
            ]
           ],
           "sequentialminus": [
            [
             0,
             "#0d0887"
            ],
            [
             0.1111111111111111,
             "#46039f"
            ],
            [
             0.2222222222222222,
             "#7201a8"
            ],
            [
             0.3333333333333333,
             "#9c179e"
            ],
            [
             0.4444444444444444,
             "#bd3786"
            ],
            [
             0.5555555555555556,
             "#d8576b"
            ],
            [
             0.6666666666666666,
             "#ed7953"
            ],
            [
             0.7777777777777778,
             "#fb9f3a"
            ],
            [
             0.8888888888888888,
             "#fdca26"
            ],
            [
             1,
             "#f0f921"
            ]
           ]
          },
          "colorway": [
           "#636efa",
           "#EF553B",
           "#00cc96",
           "#ab63fa",
           "#FFA15A",
           "#19d3f3",
           "#FF6692",
           "#B6E880",
           "#FF97FF",
           "#FECB52"
          ],
          "font": {
           "color": "#2a3f5f"
          },
          "geo": {
           "bgcolor": "white",
           "lakecolor": "white",
           "landcolor": "#E5ECF6",
           "showlakes": true,
           "showland": true,
           "subunitcolor": "white"
          },
          "hoverlabel": {
           "align": "left"
          },
          "hovermode": "closest",
          "mapbox": {
           "style": "light"
          },
          "paper_bgcolor": "white",
          "plot_bgcolor": "#E5ECF6",
          "polar": {
           "angularaxis": {
            "gridcolor": "white",
            "linecolor": "white",
            "ticks": ""
           },
           "bgcolor": "#E5ECF6",
           "radialaxis": {
            "gridcolor": "white",
            "linecolor": "white",
            "ticks": ""
           }
          },
          "scene": {
           "xaxis": {
            "backgroundcolor": "#E5ECF6",
            "gridcolor": "white",
            "gridwidth": 2,
            "linecolor": "white",
            "showbackground": true,
            "ticks": "",
            "zerolinecolor": "white"
           },
           "yaxis": {
            "backgroundcolor": "#E5ECF6",
            "gridcolor": "white",
            "gridwidth": 2,
            "linecolor": "white",
            "showbackground": true,
            "ticks": "",
            "zerolinecolor": "white"
           },
           "zaxis": {
            "backgroundcolor": "#E5ECF6",
            "gridcolor": "white",
            "gridwidth": 2,
            "linecolor": "white",
            "showbackground": true,
            "ticks": "",
            "zerolinecolor": "white"
           }
          },
          "shapedefaults": {
           "line": {
            "color": "#2a3f5f"
           }
          },
          "ternary": {
           "aaxis": {
            "gridcolor": "white",
            "linecolor": "white",
            "ticks": ""
           },
           "baxis": {
            "gridcolor": "white",
            "linecolor": "white",
            "ticks": ""
           },
           "bgcolor": "#E5ECF6",
           "caxis": {
            "gridcolor": "white",
            "linecolor": "white",
            "ticks": ""
           }
          },
          "title": {
           "x": 0.05
          },
          "xaxis": {
           "automargin": true,
           "gridcolor": "white",
           "linecolor": "white",
           "ticks": "",
           "title": {
            "standoff": 15
           },
           "zerolinecolor": "white",
           "zerolinewidth": 2
          },
          "yaxis": {
           "automargin": true,
           "gridcolor": "white",
           "linecolor": "white",
           "ticks": "",
           "title": {
            "standoff": 15
           },
           "zerolinecolor": "white",
           "zerolinewidth": 2
          }
         }
        },
        "title": {
         "text": "Event prediction",
         "x": 0.5,
         "xanchor": "center",
         "y": 0.9,
         "yanchor": "top"
        }
       }
      }
     },
     "metadata": {},
     "output_type": "display_data"
    }
   ],
   "source": [
    "# Get a random event_id and associated batch_id from meta_df\n",
    "# If EVENT is given, use that instead of a random event_id\n",
    "event_id, batch_id = \\\n",
    "    meta_df[['event_id', 'batch_id']].sample(n=1).values[0] \\\n",
    "    if not EVENT \\\n",
    "    else (\n",
    "        EVENT, \n",
    "        meta_df[meta_df['event_id']==EVENT]['batch_id'].values[0]\n",
    "    )\n",
    "    \n",
    "batch_df = pd.read_parquet(f'{DATA_DIR}/train/batch_{batch_id}.parquet', engine='fastparquet').reset_index()\n",
    "event_df = compose_event_df(batch_df, event_id, sensor_geometry)  # type: ignore\n",
    "\n",
    "true_values = get_event_true_values(meta_df, event_id)\n",
    "print('Plotting event_id:', event_id)\n",
    "\n",
    "plot_pca(\n",
    "    event_df, \n",
    "    labels=true_values, \n",
    "    exclude_axillary=EXCLUDE_AUXILIARY, \n",
    "    marker_size=12, \n",
    "    # charge_threshold=(0.8, 3),\n",
    "    # time_threshold=(0, 10000)\n",
    ")"
   ]
  },
  {
   "cell_type": "code",
   "execution_count": null,
   "metadata": {},
   "outputs": [],
   "source": []
  },
  {
   "cell_type": "code",
   "execution_count": null,
   "metadata": {},
   "outputs": [],
   "source": []
  }
 ],
 "metadata": {
  "kernelspec": {
   "display_name": "KAG_IC_NEU",
   "language": "python",
   "name": "python3"
  },
  "language_info": {
   "codemirror_mode": {
    "name": "ipython",
    "version": 3
   },
   "file_extension": ".py",
   "mimetype": "text/x-python",
   "name": "python",
   "nbconvert_exporter": "python",
   "pygments_lexer": "ipython3",
   "version": "3.8.16"
  },
  "orig_nbformat": 4,
  "vscode": {
   "interpreter": {
    "hash": "ad40088d582bffe2fc05846b5516a111df7b25e3d4e8e50a24f706fb2c5c2959"
   }
  }
 },
 "nbformat": 4,
 "nbformat_minor": 2
}
