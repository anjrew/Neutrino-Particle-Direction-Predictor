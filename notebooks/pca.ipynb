{
 "cells": [
  {
   "attachments": {},
   "cell_type": "markdown",
   "metadata": {},
   "source": [
    "# Simple PCA line prediction\n",
    "\n",
    "This notebook uses PCA to predict the line of best fit to the data. It uses a single PCA component to predict the line of best fit to the data and reducing the dimensionality of the data to 1."
   ]
  },
  {
   "cell_type": "code",
   "execution_count": 1,
   "metadata": {},
   "outputs": [],
   "source": [
    "import sys\n",
    "sys.path.append('..')\n",
    "\n",
    "\n",
    "import pandas as pd \n",
    "from scripts.utils import seed_it_all\n",
    "from scripts.plot import compose_event_df, plot_pca, get_event_true_values"
   ]
  },
  {
   "cell_type": "code",
   "execution_count": 2,
   "metadata": {},
   "outputs": [],
   "source": [
    "from typing import Optional\n",
    "\n",
    "\n",
    "DATA_DIR = \"../data\"\n",
    "EVENT: Optional[int] = None # set to None to use a random event, or set to a specific event id\n",
    "EXCLUDE_AUXILIARY= False # set to True to exclude auxiliary sensor readings\n",
    "IS_TRAINING = True # set to True to use the training data, or False to use the test data\n",
    "\n",
    "\n",
    "DATA_SET = 'train' if IS_TRAINING else 'test' # DO NOT CHANGE THIS LINE"
   ]
  },
  {
   "cell_type": "code",
   "execution_count": 3,
   "metadata": {},
   "outputs": [],
   "source": [
    "seed_it_all(10)"
   ]
  },
  {
   "cell_type": "code",
   "execution_count": 4,
   "metadata": {},
   "outputs": [],
   "source": [
    "meta_df = pd.read_parquet(f'{DATA_DIR}/{DATA_SET}_meta.parquet')\n",
    "sensor_geometry = pd.read_csv(f'{DATA_DIR}/sensor_geometry.csv', index_col=0)"
   ]
  },
  {
   "attachments": {},
   "cell_type": "markdown",
   "metadata": {},
   "source": [
    "## Plot the result\n",
    "\n",
    "Execute the following code to plot the predicted line vs truth."
   ]
  },
  {
   "cell_type": "code",
   "execution_count": 6,
   "metadata": {},
   "outputs": [
    {
     "name": "stdout",
     "output_type": "stream",
     "text": [
      "Plotting event_id: 1718469533\n"
     ]
    },
    {
     "data": {
      "application/vnd.plotly.v1+json": {
       "config": {
        "plotlyServerURL": "https://plot.ly"
       },
       "data": [
        {
         "hovertemplate": "\n                    <b>X:</b> %{x}\n                    <br>\n                    <b>Y:</b> %{y}\n                    <br>\n                    <b>Size:</b> %{marker.size}<br>\n                    <b>Size (multiplied by 10):</b> %{marker.size*10:.2f}<br>\n                    <b>Color (multiplied by 2):</b> %{marker.color*2:.2f}\n                ",
         "marker": {
          "color": [
           22875,
           23841,
           24415,
           24930,
           25035,
           25097,
           25340,
           25440,
           25811,
           26131,
           26153,
           26195,
           26197,
           26433,
           26609,
           26617,
           26746,
           26752,
           26859,
           26877,
           27010,
           27022,
           27161,
           27336,
           27681,
           28236,
           28292,
           28513,
           28520,
           28553,
           28581,
           28685,
           28706,
           28721,
           28825,
           28854,
           28878,
           28900,
           28933,
           29080,
           29273,
           29500,
           29524,
           29649,
           29658,
           29792,
           29875,
           29923,
           30022,
           30152,
           30414,
           30793,
           31146,
           31261,
           31386,
           31568,
           31628,
           31750,
           32815,
           33143,
           33241,
           33458,
           33503,
           33883,
           33960,
           34354,
           34592
          ],
          "opacity": 0.8,
          "showscale": true,
          "size": [
           9.399999618530273,
           7.800000190734863,
           7,
           5,
           8.199999809265137,
           12.600000381469727,
           10.600000381469727,
           9,
           4.199999809265137,
           1.7999999523162842,
           20.200000762939453,
           5,
           3.4000000953674316,
           3.799999952316284,
           6.199999809265137,
           7.400000095367432,
           13.800000190734863,
           13,
           7,
           7,
           11,
           7.400000095367432,
           7.400000095367432,
           8.199999809265137,
           7.800000190734863,
           11.399999618530273,
           5.400000095367432,
           6.599999904632568,
           9,
           7.800000190734863,
           8.600000381469727,
           9,
           7.800000190734863,
           6.199999809265137,
           8.199999809265137,
           10.199999809265137,
           1.399999976158142,
           7,
           7.800000190734863,
           3.799999952316284,
           6.599999904632568,
           10.600000381469727,
           7.400000095367432,
           5.400000095367432,
           5.400000095367432,
           7,
           7.800000190734863,
           4.199999809265137,
           3,
           5.800000190734863,
           5.800000190734863,
           6.199999809265137,
           5.800000190734863,
           9.399999618530273,
           6.199999809265137,
           2.5999999046325684,
           2.5999999046325684,
           7.400000095367432,
           4.599999904632568,
           7.400000095367432,
           10.600000381469727,
           8.600000381469727,
           9.800000190734863,
           2.5999999046325684,
           9.800000190734863,
           6.599999904632568,
           7.800000190734863
          ]
         },
         "mode": "markers",
         "name": "Detected",
         "type": "scatter3d",
         "x": [
          292.9,
          -10.97,
          -132.8,
          101.04,
          -145.45,
          -245.65,
          330.03,
          -403.14,
          -492.43,
          -256.14,
          194.34,
          -10.97,
          194.34,
          -290.66,
          576.37,
          -290.66,
          57.2,
          57.2,
          -200.55,
          101.04,
          -111.51,
          -279.53,
          -368.93,
          -413.46,
          248.15,
          -492.43,
          -413.46,
          -334.8,
          -368.93,
          -290.66,
          -492.43,
          371.56,
          -492.43,
          -492.43,
          -492.43,
          -526.63,
          -492.43,
          -492.43,
          -492.43,
          -447.74,
          -447.74,
          -570.9,
          90.49,
          -570.9,
          -570.9,
          -570.9,
          444,
          -447.74,
          194.34,
          35.54,
          -413.46,
          -570.9,
          41.6,
          -290.66,
          371.56,
          -43.27,
          -224.09,
          -413.46,
          382.35,
          79.41,
          194.34,
          101.04,
          -200.55,
          -132.8,
          -88.05,
          -132.8,
          -313.6
         ],
         "y": [
          5.2,
          6.72,
          -501.45,
          412.79,
          374.24,
          -190.49,
          127.2,
          3.49,
          -230.16,
          -521.08,
          -30.92,
          6.72,
          -30.92,
          -307.38,
          170.92,
          -307.38,
          -105.52,
          -105.52,
          -74.03,
          412.79,
          159.98,
          23.17,
          -210.23,
          -327.27,
          -111.87,
          -230.16,
          -327.27,
          -424.5,
          -210.23,
          -307.38,
          -230.16,
          -92.18,
          -230.16,
          -230.16,
          -230.16,
          -15.6,
          -230.16,
          -230.16,
          -230.16,
          -113.13,
          -113.13,
          -125.14,
          82.35,
          -125.14,
          -125.14,
          -125.14,
          -194.48,
          -113.13,
          -30.92,
          -364.83,
          -327.27,
          -125.14,
          35.49,
          -307.38,
          -92.18,
          -267.52,
          470.86,
          -327.27,
          238.9,
          -248.24,
          -30.92,
          412.79,
          -74.03,
          -501.45,
          -384.3,
          -501.45,
          237.44
         ],
         "z": [
          -121.34,
          -206.06,
          108.6,
          -23.23,
          -280.87,
          212.13,
          449.8,
          144.37,
          89.11,
          -31.61,
          -227.8,
          -360.25,
          -227.8,
          452.96,
          0.44,
          418.92,
          -280.55,
          -280.55,
          -89.32,
          -448.75,
          -61.15,
          9,
          500.53,
          312.37,
          378.89,
          191.23,
          57.06,
          41.03,
          75.02,
          197.65,
          -132.16,
          -417.54,
          -183.23,
          -183.23,
          -200.25,
          162.25,
          -200.25,
          -217.27,
          -234.29,
          -146.11,
          -197.18,
          -368.45,
          501.66,
          -419.52,
          -334.41,
          -283.35,
          -470.53,
          -316.32,
          -227.8,
          310.49,
          -334.42,
          -470.58,
          149.47,
          -108.6,
          -417.54,
          380.98,
          298.18,
          -368.46,
          158.13,
          -420.22,
          -227.8,
          -448.75,
          -89.32,
          108.6,
          -504.83,
          295.83,
          126.74
         ]
        },
        {
         "line": {
          "color": "red",
          "width": 3
         },
         "marker": {
          "color": "red",
          "size": 4
         },
         "name": "Predicted",
         "type": "scatter3d",
         "x": [
          -890.4078639631085,
          546.5753266496757
         ],
         "y": [
          -465.3085025765364,
          235.1908906362379
         ],
         "z": [
          18.9759001968839,
          -151.2221688536003
         ]
        },
        {
         "line": {
          "color": "green",
          "width": 3
         },
         "marker": {
          "color": "green",
          "size": 4
         },
         "name": "Truth",
         "type": "scatter3d",
         "x": [
          -691.4220717718234,
          691.4220717718234
         ],
         "y": [
          108.00467679443184,
          -108.00467679443184
         ],
         "z": [
          395.4963674083601,
          -395.4963674083601
         ]
        }
       ],
       "layout": {
        "legend": {
         "x": 0,
         "y": 1
        },
        "showlegend": true,
        "template": {
         "data": {
          "bar": [
           {
            "error_x": {
             "color": "#2a3f5f"
            },
            "error_y": {
             "color": "#2a3f5f"
            },
            "marker": {
             "line": {
              "color": "#E5ECF6",
              "width": 0.5
             },
             "pattern": {
              "fillmode": "overlay",
              "size": 10,
              "solidity": 0.2
             }
            },
            "type": "bar"
           }
          ],
          "barpolar": [
           {
            "marker": {
             "line": {
              "color": "#E5ECF6",
              "width": 0.5
             },
             "pattern": {
              "fillmode": "overlay",
              "size": 10,
              "solidity": 0.2
             }
            },
            "type": "barpolar"
           }
          ],
          "carpet": [
           {
            "aaxis": {
             "endlinecolor": "#2a3f5f",
             "gridcolor": "white",
             "linecolor": "white",
             "minorgridcolor": "white",
             "startlinecolor": "#2a3f5f"
            },
            "baxis": {
             "endlinecolor": "#2a3f5f",
             "gridcolor": "white",
             "linecolor": "white",
             "minorgridcolor": "white",
             "startlinecolor": "#2a3f5f"
            },
            "type": "carpet"
           }
          ],
          "choropleth": [
           {
            "colorbar": {
             "outlinewidth": 0,
             "ticks": ""
            },
            "type": "choropleth"
           }
          ],
          "contour": [
           {
            "colorbar": {
             "outlinewidth": 0,
             "ticks": ""
            },
            "colorscale": [
             [
              0,
              "#0d0887"
             ],
             [
              0.1111111111111111,
              "#46039f"
             ],
             [
              0.2222222222222222,
              "#7201a8"
             ],
             [
              0.3333333333333333,
              "#9c179e"
             ],
             [
              0.4444444444444444,
              "#bd3786"
             ],
             [
              0.5555555555555556,
              "#d8576b"
             ],
             [
              0.6666666666666666,
              "#ed7953"
             ],
             [
              0.7777777777777778,
              "#fb9f3a"
             ],
             [
              0.8888888888888888,
              "#fdca26"
             ],
             [
              1,
              "#f0f921"
             ]
            ],
            "type": "contour"
           }
          ],
          "contourcarpet": [
           {
            "colorbar": {
             "outlinewidth": 0,
             "ticks": ""
            },
            "type": "contourcarpet"
           }
          ],
          "heatmap": [
           {
            "colorbar": {
             "outlinewidth": 0,
             "ticks": ""
            },
            "colorscale": [
             [
              0,
              "#0d0887"
             ],
             [
              0.1111111111111111,
              "#46039f"
             ],
             [
              0.2222222222222222,
              "#7201a8"
             ],
             [
              0.3333333333333333,
              "#9c179e"
             ],
             [
              0.4444444444444444,
              "#bd3786"
             ],
             [
              0.5555555555555556,
              "#d8576b"
             ],
             [
              0.6666666666666666,
              "#ed7953"
             ],
             [
              0.7777777777777778,
              "#fb9f3a"
             ],
             [
              0.8888888888888888,
              "#fdca26"
             ],
             [
              1,
              "#f0f921"
             ]
            ],
            "type": "heatmap"
           }
          ],
          "heatmapgl": [
           {
            "colorbar": {
             "outlinewidth": 0,
             "ticks": ""
            },
            "colorscale": [
             [
              0,
              "#0d0887"
             ],
             [
              0.1111111111111111,
              "#46039f"
             ],
             [
              0.2222222222222222,
              "#7201a8"
             ],
             [
              0.3333333333333333,
              "#9c179e"
             ],
             [
              0.4444444444444444,
              "#bd3786"
             ],
             [
              0.5555555555555556,
              "#d8576b"
             ],
             [
              0.6666666666666666,
              "#ed7953"
             ],
             [
              0.7777777777777778,
              "#fb9f3a"
             ],
             [
              0.8888888888888888,
              "#fdca26"
             ],
             [
              1,
              "#f0f921"
             ]
            ],
            "type": "heatmapgl"
           }
          ],
          "histogram": [
           {
            "marker": {
             "pattern": {
              "fillmode": "overlay",
              "size": 10,
              "solidity": 0.2
             }
            },
            "type": "histogram"
           }
          ],
          "histogram2d": [
           {
            "colorbar": {
             "outlinewidth": 0,
             "ticks": ""
            },
            "colorscale": [
             [
              0,
              "#0d0887"
             ],
             [
              0.1111111111111111,
              "#46039f"
             ],
             [
              0.2222222222222222,
              "#7201a8"
             ],
             [
              0.3333333333333333,
              "#9c179e"
             ],
             [
              0.4444444444444444,
              "#bd3786"
             ],
             [
              0.5555555555555556,
              "#d8576b"
             ],
             [
              0.6666666666666666,
              "#ed7953"
             ],
             [
              0.7777777777777778,
              "#fb9f3a"
             ],
             [
              0.8888888888888888,
              "#fdca26"
             ],
             [
              1,
              "#f0f921"
             ]
            ],
            "type": "histogram2d"
           }
          ],
          "histogram2dcontour": [
           {
            "colorbar": {
             "outlinewidth": 0,
             "ticks": ""
            },
            "colorscale": [
             [
              0,
              "#0d0887"
             ],
             [
              0.1111111111111111,
              "#46039f"
             ],
             [
              0.2222222222222222,
              "#7201a8"
             ],
             [
              0.3333333333333333,
              "#9c179e"
             ],
             [
              0.4444444444444444,
              "#bd3786"
             ],
             [
              0.5555555555555556,
              "#d8576b"
             ],
             [
              0.6666666666666666,
              "#ed7953"
             ],
             [
              0.7777777777777778,
              "#fb9f3a"
             ],
             [
              0.8888888888888888,
              "#fdca26"
             ],
             [
              1,
              "#f0f921"
             ]
            ],
            "type": "histogram2dcontour"
           }
          ],
          "mesh3d": [
           {
            "colorbar": {
             "outlinewidth": 0,
             "ticks": ""
            },
            "type": "mesh3d"
           }
          ],
          "parcoords": [
           {
            "line": {
             "colorbar": {
              "outlinewidth": 0,
              "ticks": ""
             }
            },
            "type": "parcoords"
           }
          ],
          "pie": [
           {
            "automargin": true,
            "type": "pie"
           }
          ],
          "scatter": [
           {
            "fillpattern": {
             "fillmode": "overlay",
             "size": 10,
             "solidity": 0.2
            },
            "type": "scatter"
           }
          ],
          "scatter3d": [
           {
            "line": {
             "colorbar": {
              "outlinewidth": 0,
              "ticks": ""
             }
            },
            "marker": {
             "colorbar": {
              "outlinewidth": 0,
              "ticks": ""
             }
            },
            "type": "scatter3d"
           }
          ],
          "scattercarpet": [
           {
            "marker": {
             "colorbar": {
              "outlinewidth": 0,
              "ticks": ""
             }
            },
            "type": "scattercarpet"
           }
          ],
          "scattergeo": [
           {
            "marker": {
             "colorbar": {
              "outlinewidth": 0,
              "ticks": ""
             }
            },
            "type": "scattergeo"
           }
          ],
          "scattergl": [
           {
            "marker": {
             "colorbar": {
              "outlinewidth": 0,
              "ticks": ""
             }
            },
            "type": "scattergl"
           }
          ],
          "scattermapbox": [
           {
            "marker": {
             "colorbar": {
              "outlinewidth": 0,
              "ticks": ""
             }
            },
            "type": "scattermapbox"
           }
          ],
          "scatterpolar": [
           {
            "marker": {
             "colorbar": {
              "outlinewidth": 0,
              "ticks": ""
             }
            },
            "type": "scatterpolar"
           }
          ],
          "scatterpolargl": [
           {
            "marker": {
             "colorbar": {
              "outlinewidth": 0,
              "ticks": ""
             }
            },
            "type": "scatterpolargl"
           }
          ],
          "scatterternary": [
           {
            "marker": {
             "colorbar": {
              "outlinewidth": 0,
              "ticks": ""
             }
            },
            "type": "scatterternary"
           }
          ],
          "surface": [
           {
            "colorbar": {
             "outlinewidth": 0,
             "ticks": ""
            },
            "colorscale": [
             [
              0,
              "#0d0887"
             ],
             [
              0.1111111111111111,
              "#46039f"
             ],
             [
              0.2222222222222222,
              "#7201a8"
             ],
             [
              0.3333333333333333,
              "#9c179e"
             ],
             [
              0.4444444444444444,
              "#bd3786"
             ],
             [
              0.5555555555555556,
              "#d8576b"
             ],
             [
              0.6666666666666666,
              "#ed7953"
             ],
             [
              0.7777777777777778,
              "#fb9f3a"
             ],
             [
              0.8888888888888888,
              "#fdca26"
             ],
             [
              1,
              "#f0f921"
             ]
            ],
            "type": "surface"
           }
          ],
          "table": [
           {
            "cells": {
             "fill": {
              "color": "#EBF0F8"
             },
             "line": {
              "color": "white"
             }
            },
            "header": {
             "fill": {
              "color": "#C8D4E3"
             },
             "line": {
              "color": "white"
             }
            },
            "type": "table"
           }
          ]
         },
         "layout": {
          "annotationdefaults": {
           "arrowcolor": "#2a3f5f",
           "arrowhead": 0,
           "arrowwidth": 1
          },
          "autotypenumbers": "strict",
          "coloraxis": {
           "colorbar": {
            "outlinewidth": 0,
            "ticks": ""
           }
          },
          "colorscale": {
           "diverging": [
            [
             0,
             "#8e0152"
            ],
            [
             0.1,
             "#c51b7d"
            ],
            [
             0.2,
             "#de77ae"
            ],
            [
             0.3,
             "#f1b6da"
            ],
            [
             0.4,
             "#fde0ef"
            ],
            [
             0.5,
             "#f7f7f7"
            ],
            [
             0.6,
             "#e6f5d0"
            ],
            [
             0.7,
             "#b8e186"
            ],
            [
             0.8,
             "#7fbc41"
            ],
            [
             0.9,
             "#4d9221"
            ],
            [
             1,
             "#276419"
            ]
           ],
           "sequential": [
            [
             0,
             "#0d0887"
            ],
            [
             0.1111111111111111,
             "#46039f"
            ],
            [
             0.2222222222222222,
             "#7201a8"
            ],
            [
             0.3333333333333333,
             "#9c179e"
            ],
            [
             0.4444444444444444,
             "#bd3786"
            ],
            [
             0.5555555555555556,
             "#d8576b"
            ],
            [
             0.6666666666666666,
             "#ed7953"
            ],
            [
             0.7777777777777778,
             "#fb9f3a"
            ],
            [
             0.8888888888888888,
             "#fdca26"
            ],
            [
             1,
             "#f0f921"
            ]
           ],
           "sequentialminus": [
            [
             0,
             "#0d0887"
            ],
            [
             0.1111111111111111,
             "#46039f"
            ],
            [
             0.2222222222222222,
             "#7201a8"
            ],
            [
             0.3333333333333333,
             "#9c179e"
            ],
            [
             0.4444444444444444,
             "#bd3786"
            ],
            [
             0.5555555555555556,
             "#d8576b"
            ],
            [
             0.6666666666666666,
             "#ed7953"
            ],
            [
             0.7777777777777778,
             "#fb9f3a"
            ],
            [
             0.8888888888888888,
             "#fdca26"
            ],
            [
             1,
             "#f0f921"
            ]
           ]
          },
          "colorway": [
           "#636efa",
           "#EF553B",
           "#00cc96",
           "#ab63fa",
           "#FFA15A",
           "#19d3f3",
           "#FF6692",
           "#B6E880",
           "#FF97FF",
           "#FECB52"
          ],
          "font": {
           "color": "#2a3f5f"
          },
          "geo": {
           "bgcolor": "white",
           "lakecolor": "white",
           "landcolor": "#E5ECF6",
           "showlakes": true,
           "showland": true,
           "subunitcolor": "white"
          },
          "hoverlabel": {
           "align": "left"
          },
          "hovermode": "closest",
          "mapbox": {
           "style": "light"
          },
          "paper_bgcolor": "white",
          "plot_bgcolor": "#E5ECF6",
          "polar": {
           "angularaxis": {
            "gridcolor": "white",
            "linecolor": "white",
            "ticks": ""
           },
           "bgcolor": "#E5ECF6",
           "radialaxis": {
            "gridcolor": "white",
            "linecolor": "white",
            "ticks": ""
           }
          },
          "scene": {
           "xaxis": {
            "backgroundcolor": "#E5ECF6",
            "gridcolor": "white",
            "gridwidth": 2,
            "linecolor": "white",
            "showbackground": true,
            "ticks": "",
            "zerolinecolor": "white"
           },
           "yaxis": {
            "backgroundcolor": "#E5ECF6",
            "gridcolor": "white",
            "gridwidth": 2,
            "linecolor": "white",
            "showbackground": true,
            "ticks": "",
            "zerolinecolor": "white"
           },
           "zaxis": {
            "backgroundcolor": "#E5ECF6",
            "gridcolor": "white",
            "gridwidth": 2,
            "linecolor": "white",
            "showbackground": true,
            "ticks": "",
            "zerolinecolor": "white"
           }
          },
          "shapedefaults": {
           "line": {
            "color": "#2a3f5f"
           }
          },
          "ternary": {
           "aaxis": {
            "gridcolor": "white",
            "linecolor": "white",
            "ticks": ""
           },
           "baxis": {
            "gridcolor": "white",
            "linecolor": "white",
            "ticks": ""
           },
           "bgcolor": "#E5ECF6",
           "caxis": {
            "gridcolor": "white",
            "linecolor": "white",
            "ticks": ""
           }
          },
          "title": {
           "x": 0.05
          },
          "xaxis": {
           "automargin": true,
           "gridcolor": "white",
           "linecolor": "white",
           "ticks": "",
           "title": {
            "standoff": 15
           },
           "zerolinecolor": "white",
           "zerolinewidth": 2
          },
          "yaxis": {
           "automargin": true,
           "gridcolor": "white",
           "linecolor": "white",
           "ticks": "",
           "title": {
            "standoff": 15
           },
           "zerolinecolor": "white",
           "zerolinewidth": 2
          }
         }
        },
        "title": {
         "text": "Event prediction"
        }
       }
      }
     },
     "metadata": {},
     "output_type": "display_data"
    }
   ],
   "source": [
    "# Get a random event_id and associated batch_id from meta_df\n",
    "# If EVENT is given, use that instead of a random event_id\n",
    "event_id, batch_id = \\\n",
    "    meta_df[['event_id', 'batch_id']].sample(n=1).values[0] \\\n",
    "    if not EVENT \\\n",
    "    else (\n",
    "        EVENT, \n",
    "        meta_df[meta_df['event_id']==EVENT]['batch_id'].values[0]\n",
    "    )\n",
    "    \n",
    "batch_df = pd.read_parquet(f'{DATA_DIR}/train/batch_{batch_id}.parquet', engine='fastparquet').reset_index()\n",
    "event_df = compose_event_df(batch_df, event_id, sensor_geometry)\n",
    "true_values = get_event_true_values(meta_df, event_id)\n",
    "print('Plotting event_id:', event_id)\n",
    "plot_pca(event_df, labels=true_values, exclude_axillary=EXCLUDE_AUXILIARY)"
   ]
  },
  {
   "cell_type": "code",
   "execution_count": null,
   "metadata": {},
   "outputs": [],
   "source": []
  }
 ],
 "metadata": {
  "kernelspec": {
   "display_name": "KAG_IC_NEU",
   "language": "python",
   "name": "python3"
  },
  "language_info": {
   "codemirror_mode": {
    "name": "ipython",
    "version": 3
   },
   "file_extension": ".py",
   "mimetype": "text/x-python",
   "name": "python",
   "nbconvert_exporter": "python",
   "pygments_lexer": "ipython3",
   "version": "3.8.16"
  },
  "orig_nbformat": 4,
  "vscode": {
   "interpreter": {
    "hash": "ad40088d582bffe2fc05846b5516a111df7b25e3d4e8e50a24f706fb2c5c2959"
   }
  }
 },
 "nbformat": 4,
 "nbformat_minor": 2
}
