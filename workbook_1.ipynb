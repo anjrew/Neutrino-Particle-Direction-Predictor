{
 "cells": [
  {
   "cell_type": "code",
   "execution_count": 19,
   "metadata": {},
   "outputs": [],
   "source": [
    "import pandas as pd \n",
    "from utils import seed_it_all"
   ]
  },
  {
   "cell_type": "code",
   "execution_count": 20,
   "metadata": {},
   "outputs": [],
   "source": [
    "DATA_DIR = \"./data\"\n",
    "BATCH = 1\n",
    "EVENT = 24"
   ]
  },
  {
   "cell_type": "code",
   "execution_count": 21,
   "metadata": {},
   "outputs": [],
   "source": [
    "seed_it_all(10)"
   ]
  },
  {
   "cell_type": "code",
   "execution_count": 22,
   "metadata": {},
   "outputs": [],
   "source": [
    "train_meta_df = pd.read_parquet(f'{DATA_DIR}/train_meta.parquet', engine='fastparquet')"
   ]
  },
  {
   "cell_type": "code",
   "execution_count": 23,
   "metadata": {},
   "outputs": [],
   "source": [
    "batch_df = pd.read_parquet(f'{DATA_DIR}/train/batch_{BATCH}.parquet', engine='fastparquet').reset_index()"
   ]
  },
  {
   "cell_type": "code",
   "execution_count": 24,
   "metadata": {},
   "outputs": [],
   "source": [
    "sensor_geometry = pd.read_csv(f'{DATA_DIR}/sensor_geometry.csv', index_col=0)"
   ]
  },
  {
   "cell_type": "code",
   "execution_count": 25,
   "metadata": {},
   "outputs": [],
   "source": [
    "event_df = batch_df[batch_df['event_id'] == EVENT]\n",
    "event_df = pd.merge(\n",
    "    left = event_df,\n",
    "    right = sensor_geometry,\n",
    "    how='inner',\n",
    "    on='sensor_id'\n",
    ")"
   ]
  },
  {
   "cell_type": "code",
   "execution_count": 26,
   "metadata": {},
   "outputs": [
    {
     "data": {
      "text/plain": [
       "array([[ 303.41,  335.64,  206.58],\n",
       "       [-145.45,  374.24,  212.73],\n",
       "       [ 505.27,  257.88, -174.6 ],\n",
       "       [ 505.27,  257.88, -174.6 ],\n",
       "       [  -9.68,  -79.5 ,  181.  ],\n",
       "       [ 576.37,  170.92,  357.88],\n",
       "       [-290.66, -307.38,  163.61],\n",
       "       [-526.63,  -15.6 , -178.17],\n",
       "       [ 500.43,  -58.45,  450.79],\n",
       "       [-313.6 ,  237.44,  348.01],\n",
       "       [-313.6 ,  237.44,  348.01],\n",
       "       [  -9.68,  -79.5 , -205.47],\n",
       "       [  -9.68,  -79.5 , -205.47],\n",
       "       [  -9.68,  -79.5 , -205.47],\n",
       "       [ 576.37,  170.92, -135.72],\n",
       "       [  -9.68,  -79.5 , -219.49],\n",
       "       [ 505.27,  257.88,  233.9 ],\n",
       "       [ 505.27,  257.88,  233.9 ],\n",
       "       [-234.95,  140.44, -197.79],\n",
       "       [ 576.37,  170.92,  170.65],\n",
       "       [-245.65, -190.49,  212.13],\n",
       "       [-324.39,  -93.43, -350.9 ],\n",
       "       [-324.39,  -93.43, -350.9 ],\n",
       "       [ 257.31,  211.66,   44.86],\n",
       "       [ 124.97, -131.25,  102.18],\n",
       "       [-324.39,  -93.43,  159.72],\n",
       "       [ 443.44, -194.35, -181.18],\n",
       "       [  35.54, -364.83,  191.34],\n",
       "       [  35.54, -364.83,  191.34],\n",
       "       [  35.54, -364.83,  208.36],\n",
       "       [  35.54, -364.83,  208.36],\n",
       "       [  35.54, -364.83,  208.36],\n",
       "       [  35.54, -364.83,  208.36],\n",
       "       [-245.65, -190.49,   75.96],\n",
       "       [-481.6 ,  101.39, -348.98],\n",
       "       [-481.6 ,  101.39, -348.98],\n",
       "       [  35.54, -364.83,  276.44],\n",
       "       [ -43.27, -267.52,  295.88],\n",
       "       [ -43.27, -267.52,  278.85],\n",
       "       [ 292.9 ,    5.2 , -206.45],\n",
       "       [ -43.27, -267.52,  244.81],\n",
       "       [  35.54, -364.83,  157.3 ],\n",
       "       [  35.54, -364.83,  259.42],\n",
       "       [  11.87,  179.19, -110.4 ],\n",
       "       [  41.6 ,   35.49, -305.08],\n",
       "       [-101.06,  490.22,  314.26],\n",
       "       [-189.98,  257.42, -162.2 ],\n",
       "       [ 361.  , -422.83,  499.51],\n",
       "       [ 158.94, -345.23,  278.56],\n",
       "       [ 382.35,  238.9 ,  192.17],\n",
       "       [-526.63,  -15.6 ,  145.23],\n",
       "       [-358.44,  120.56, -438.08],\n",
       "       [-224.09,  470.86,   25.84],\n",
       "       [-526.63,  -15.6 , -314.33],\n",
       "       [  11.87,  179.19, -331.67],\n",
       "       [ 106.94,   27.09, -399.05],\n",
       "       [ 382.35,  238.9 ,  -46.12],\n",
       "       [-256.14, -521.08, -320.97],\n",
       "       [  11.87,  179.19,   42.78],\n",
       "       [  11.87,  179.19,   42.78],\n",
       "       [-132.8 , -501.45, -248.84]])"
      ]
     },
     "execution_count": 26,
     "metadata": {},
     "output_type": "execute_result"
    }
   ],
   "source": [
    "import numpy as np\n",
    "\n",
    "x, y, z = event_df['x'], event_df['y'], event_df['z']\n",
    "coords = np.array((x,y,z)).T\n",
    "coords"
   ]
  },
  {
   "cell_type": "code",
   "execution_count": 27,
   "metadata": {},
   "outputs": [
    {
     "data": {
      "text/plain": [
       "array([[0.88924748, 0.16626122, 0.42614097]])"
      ]
     },
     "execution_count": 27,
     "metadata": {},
     "output_type": "execute_result"
    }
   ],
   "source": [
    "from sklearn.decomposition import PCA\n",
    "\n",
    "pca = PCA(n_components=1)\n",
    "pca.fit(coords) \n",
    "direction_vector = pca.components_\n",
    "direction_vector"
   ]
  },
  {
   "cell_type": "code",
   "execution_count": 28,
   "metadata": {},
   "outputs": [
    {
     "data": {
      "text/plain": [
       "array([[-617.22038344, -146.94429322, -275.08081168],\n",
       "       [ 641.04431786,   88.31150634,  327.89884446]])"
      ]
     },
     "execution_count": 28,
     "metadata": {},
     "output_type": "execute_result"
    }
   ],
   "source": [
    "origin = np.mean(coords, axis=0)\n",
    "euclidean_distance = np.linalg.norm(coords - origin, axis=1)\n",
    "extent = np.max(euclidean_distance)\n",
    "el_1 = origin - direction_vector * extent\n",
    "el_2 = origin + direction_vector * extent\n",
    "line = np.vstack((el_1, el_2))\n",
    "line"
   ]
  },
  {
   "cell_type": "code",
   "execution_count": 29,
   "metadata": {},
   "outputs": [],
   "source": [
    "import math\n",
    "\n",
    "def cartesian_to_sphere(x, y, z):\n",
    "    # https://en.wikipedia.org/wiki/Spherical_coordinate_system\n",
    "    x2y2 = x**2 + y**2\n",
    "    r = math.sqrt(x2y2 + z**2)\n",
    "    azimuth = math.acos(x / math.sqrt(x2y2)) * np.sign(y)\n",
    "    zenith = math.acos(z / r)\n",
    "    return azimuth, zenith"
   ]
  },
  {
   "cell_type": "code",
   "execution_count": 30,
   "metadata": {},
   "outputs": [],
   "source": [
    "def sphere_to_cartesian(azimuth, zenith):\n",
    "    # see: https://stackoverflow.com/a/10868220/4521646\n",
    "    x = math.sin(zenith) * math.cos(azimuth)\n",
    "    y = math.sin(zenith) * math.sin(azimuth)\n",
    "    z = math.cos(zenith)\n",
    "    return x, y, z"
   ]
  },
  {
   "cell_type": "code",
   "execution_count": 31,
   "metadata": {},
   "outputs": [],
   "source": [
    "def adjust_sphere(azimuth, zenith):\n",
    "    if zenith < 0:\n",
    "        zenith += math.pi\n",
    "        azimuth += math.pi\n",
    "    if azimuth < 0:\n",
    "        azimuth += math.pi * 2\n",
    "    azimuth = azimuth % (2 * math.pi)\n",
    "    return azimuth, zenith"
   ]
  },
  {
   "cell_type": "code",
   "execution_count": 32,
   "metadata": {},
   "outputs": [
    {
     "data": {
      "text/plain": [
       "(0.2711606932818947, -0.8260880094077094, -0.4940146547742188)"
      ]
     },
     "execution_count": 32,
     "metadata": {},
     "output_type": "execute_result"
    }
   ],
   "source": [
    "\n",
    "train_metadata=train_meta_df[(train_meta_df['event_id'] == EVENT) & (train_meta_df['batch_id'] == BATCH)]\n",
    "azimuth = train_metadata['azimuth']\n",
    "zenith = train_metadata['zenith']\n",
    "x,y,z = sphere_to_cartesian(azimuth, zenith)\n",
    "x,y,z"
   ]
  },
  {
   "cell_type": "code",
   "execution_count": 33,
   "metadata": {},
   "outputs": [
    {
     "data": {
      "text/plain": [
       "(5.029554633390068, 2.0874975005610428)"
      ]
     },
     "execution_count": 33,
     "metadata": {},
     "output_type": "execute_result"
    }
   ],
   "source": [
    "azimuth_, zenith_ = adjust_sphere(*cartesian_to_sphere(x,y,z))\n",
    "azimuth_, zenith_"
   ]
  },
  {
   "cell_type": "code",
   "execution_count": 34,
   "metadata": {},
   "outputs": [
    {
     "data": {
      "text/plain": [
       "(0    5.029555\n",
       " Name: azimuth, dtype: float64,\n",
       " 0    2.087498\n",
       " Name: zenith, dtype: float64)"
      ]
     },
     "execution_count": 34,
     "metadata": {},
     "output_type": "execute_result"
    }
   ],
   "source": [
    "train_metadata['azimuth'], train_metadata['zenith']"
   ]
  },
  {
   "cell_type": "code",
   "execution_count": 35,
   "metadata": {},
   "outputs": [
    {
     "data": {
      "text/plain": [
       "(-1.2536306737895189, 2.0874975005610428)"
      ]
     },
     "execution_count": 35,
     "metadata": {},
     "output_type": "execute_result"
    }
   ],
   "source": [
    "\n",
    "azimuth = math.atan2(y, x)\n",
    "zenith = math.acos(z / math.sqrt(x**2 + y**2 + z**2))\n",
    "azimuth, zenith"
   ]
  },
  {
   "cell_type": "code",
   "execution_count": 36,
   "metadata": {},
   "outputs": [],
   "source": [
    "def get_line(origin, vector):\n",
    "    below_origin = origin - direction_vector * extent\n",
    "    above_origin = origin + direction_vector * extent\n",
    "    line = np.vstack((below_origin, above_origin))\n",
    "    return line"
   ]
  },
  {
   "cell_type": "code",
   "execution_count": 37,
   "metadata": {},
   "outputs": [
    {
     "data": {
      "text/plain": [
       "array([[-629.13235065, -117.62789978, -301.48982807],\n",
       "       [ 629.13235065,  117.62789978,  301.48982807]])"
      ]
     },
     "execution_count": 37,
     "metadata": {},
     "output_type": "execute_result"
    }
   ],
   "source": [
    "truth_trace = get_line([0,0,0], [x,y,z])\n",
    "truth_trace"
   ]
  },
  {
   "cell_type": "code",
   "execution_count": 38,
   "metadata": {},
   "outputs": [
    {
     "data": {
      "text/plain": [
       "(array([-629.13235065,  629.13235065]),\n",
       " array([-117.62789978,  117.62789978]),\n",
       " array([-301.48982807,  301.48982807]))"
      ]
     },
     "execution_count": 38,
     "metadata": {},
     "output_type": "execute_result"
    }
   ],
   "source": [
    "truth_trace[:,0], truth_trace[:,1], truth_trace[:,2]"
   ]
  },
  {
   "attachments": {},
   "cell_type": "markdown",
   "metadata": {},
   "source": [
    "## Plot the result"
   ]
  },
  {
   "cell_type": "code",
   "execution_count": 39,
   "metadata": {},
   "outputs": [
    {
     "data": {
      "application/vnd.plotly.v1+json": {
       "config": {
        "plotlyServerURL": "https://plot.ly"
       },
       "data": [
        {
         "marker": {
          "color": [
           5928,
           6115,
           6492,
           14523,
           6665,
           8054,
           8124,
           8284,
           8478,
           8572,
           15653,
           8680,
           8723,
           15967,
           8747,
           9868,
           9976,
           16283,
           10259,
           10642,
           10848,
           10973,
           17755,
           11023,
           11085,
           11217,
           11416,
           12201,
           12339,
           12206,
           12227,
           12377,
           12436,
           12213,
           12571,
           17172,
           12607,
           12723,
           12773,
           12773,
           12818,
           13081,
           13262,
           14001,
           14205,
           14283,
           14600,
           15209,
           15343,
           15602,
           15634,
           15922,
           16015,
           16768,
           16884,
           17196,
           17812,
           18053,
           18095,
           18102,
           19031
          ],
          "opacity": 1,
          "size": 5
         },
         "mode": "markers",
         "name": "Detected",
         "type": "scatter3d",
         "x": [
          303.41,
          -145.45,
          505.27,
          505.27,
          -9.68,
          576.37,
          -290.66,
          -526.63,
          500.43,
          -313.6,
          -313.6,
          -9.68,
          -9.68,
          -9.68,
          576.37,
          -9.68,
          505.27,
          505.27,
          -234.95,
          576.37,
          -245.65,
          -324.39,
          -324.39,
          257.31,
          124.97,
          -324.39,
          443.44,
          35.54,
          35.54,
          35.54,
          35.54,
          35.54,
          35.54,
          -245.65,
          -481.6,
          -481.6,
          35.54,
          -43.27,
          -43.27,
          292.9,
          -43.27,
          35.54,
          35.54,
          11.87,
          41.6,
          -101.06,
          -189.98,
          361,
          158.94,
          382.35,
          -526.63,
          -358.44,
          -224.09,
          -526.63,
          11.87,
          106.94,
          382.35,
          -256.14,
          11.87,
          11.87,
          -132.8
         ],
         "y": [
          335.64,
          374.24,
          257.88,
          257.88,
          -79.5,
          170.92,
          -307.38,
          -15.6,
          -58.45,
          237.44,
          237.44,
          -79.5,
          -79.5,
          -79.5,
          170.92,
          -79.5,
          257.88,
          257.88,
          140.44,
          170.92,
          -190.49,
          -93.43,
          -93.43,
          211.66,
          -131.25,
          -93.43,
          -194.35,
          -364.83,
          -364.83,
          -364.83,
          -364.83,
          -364.83,
          -364.83,
          -190.49,
          101.39,
          101.39,
          -364.83,
          -267.52,
          -267.52,
          5.2,
          -267.52,
          -364.83,
          -364.83,
          179.19,
          35.49,
          490.22,
          257.42,
          -422.83,
          -345.23,
          238.9,
          -15.6,
          120.56,
          470.86,
          -15.6,
          179.19,
          27.09,
          238.9,
          -521.08,
          179.19,
          179.19,
          -501.45
         ],
         "z": [
          206.58,
          212.73,
          -174.6,
          -174.6,
          181,
          357.88,
          163.61,
          -178.17,
          450.79,
          348.01,
          348.01,
          -205.47,
          -205.47,
          -205.47,
          -135.72,
          -219.49,
          233.9,
          233.9,
          -197.79,
          170.65,
          212.13,
          -350.9,
          -350.9,
          44.86,
          102.18,
          159.72,
          -181.18,
          191.34,
          191.34,
          208.36,
          208.36,
          208.36,
          208.36,
          75.96,
          -348.98,
          -348.98,
          276.44,
          295.88,
          278.85,
          -206.45,
          244.81,
          157.3,
          259.42,
          -110.4,
          -305.08,
          314.26,
          -162.2,
          499.51,
          278.56,
          192.17,
          145.23,
          -438.08,
          25.84,
          -314.33,
          -331.67,
          -399.05,
          -46.12,
          -320.97,
          42.78,
          42.78,
          -248.84
         ]
        },
        {
         "line": {
          "color": "red",
          "width": 3
         },
         "marker": {
          "color": "red",
          "size": 4
         },
         "name": "Predicted",
         "type": "scatter3d",
         "x": [
          -617.2203834355221,
          641.0443178617516
         ],
         "y": [
          -146.94429322455292,
          88.31150633930703
         ],
         "z": [
          -275.08081167794825,
          327.89884446483353
         ]
        },
        {
         "line": {
          "color": "green",
          "width": 3
         },
         "marker": {
          "color": "green",
          "size": 4
         },
         "name": "Truth",
         "type": "scatter3d",
         "x": [
          -629.1323506486368,
          629.1323506486368
         ],
         "y": [
          -117.62789978192997,
          117.62789978192997
         ],
         "z": [
          -301.4898280713909,
          301.4898280713909
         ]
        }
       ],
       "layout": {
        "legend": {
         "x": 0,
         "y": 1
        },
        "showlegend": true,
        "template": {
         "data": {
          "bar": [
           {
            "error_x": {
             "color": "#2a3f5f"
            },
            "error_y": {
             "color": "#2a3f5f"
            },
            "marker": {
             "line": {
              "color": "#E5ECF6",
              "width": 0.5
             },
             "pattern": {
              "fillmode": "overlay",
              "size": 10,
              "solidity": 0.2
             }
            },
            "type": "bar"
           }
          ],
          "barpolar": [
           {
            "marker": {
             "line": {
              "color": "#E5ECF6",
              "width": 0.5
             },
             "pattern": {
              "fillmode": "overlay",
              "size": 10,
              "solidity": 0.2
             }
            },
            "type": "barpolar"
           }
          ],
          "carpet": [
           {
            "aaxis": {
             "endlinecolor": "#2a3f5f",
             "gridcolor": "white",
             "linecolor": "white",
             "minorgridcolor": "white",
             "startlinecolor": "#2a3f5f"
            },
            "baxis": {
             "endlinecolor": "#2a3f5f",
             "gridcolor": "white",
             "linecolor": "white",
             "minorgridcolor": "white",
             "startlinecolor": "#2a3f5f"
            },
            "type": "carpet"
           }
          ],
          "choropleth": [
           {
            "colorbar": {
             "outlinewidth": 0,
             "ticks": ""
            },
            "type": "choropleth"
           }
          ],
          "contour": [
           {
            "colorbar": {
             "outlinewidth": 0,
             "ticks": ""
            },
            "colorscale": [
             [
              0,
              "#0d0887"
             ],
             [
              0.1111111111111111,
              "#46039f"
             ],
             [
              0.2222222222222222,
              "#7201a8"
             ],
             [
              0.3333333333333333,
              "#9c179e"
             ],
             [
              0.4444444444444444,
              "#bd3786"
             ],
             [
              0.5555555555555556,
              "#d8576b"
             ],
             [
              0.6666666666666666,
              "#ed7953"
             ],
             [
              0.7777777777777778,
              "#fb9f3a"
             ],
             [
              0.8888888888888888,
              "#fdca26"
             ],
             [
              1,
              "#f0f921"
             ]
            ],
            "type": "contour"
           }
          ],
          "contourcarpet": [
           {
            "colorbar": {
             "outlinewidth": 0,
             "ticks": ""
            },
            "type": "contourcarpet"
           }
          ],
          "heatmap": [
           {
            "colorbar": {
             "outlinewidth": 0,
             "ticks": ""
            },
            "colorscale": [
             [
              0,
              "#0d0887"
             ],
             [
              0.1111111111111111,
              "#46039f"
             ],
             [
              0.2222222222222222,
              "#7201a8"
             ],
             [
              0.3333333333333333,
              "#9c179e"
             ],
             [
              0.4444444444444444,
              "#bd3786"
             ],
             [
              0.5555555555555556,
              "#d8576b"
             ],
             [
              0.6666666666666666,
              "#ed7953"
             ],
             [
              0.7777777777777778,
              "#fb9f3a"
             ],
             [
              0.8888888888888888,
              "#fdca26"
             ],
             [
              1,
              "#f0f921"
             ]
            ],
            "type": "heatmap"
           }
          ],
          "heatmapgl": [
           {
            "colorbar": {
             "outlinewidth": 0,
             "ticks": ""
            },
            "colorscale": [
             [
              0,
              "#0d0887"
             ],
             [
              0.1111111111111111,
              "#46039f"
             ],
             [
              0.2222222222222222,
              "#7201a8"
             ],
             [
              0.3333333333333333,
              "#9c179e"
             ],
             [
              0.4444444444444444,
              "#bd3786"
             ],
             [
              0.5555555555555556,
              "#d8576b"
             ],
             [
              0.6666666666666666,
              "#ed7953"
             ],
             [
              0.7777777777777778,
              "#fb9f3a"
             ],
             [
              0.8888888888888888,
              "#fdca26"
             ],
             [
              1,
              "#f0f921"
             ]
            ],
            "type": "heatmapgl"
           }
          ],
          "histogram": [
           {
            "marker": {
             "pattern": {
              "fillmode": "overlay",
              "size": 10,
              "solidity": 0.2
             }
            },
            "type": "histogram"
           }
          ],
          "histogram2d": [
           {
            "colorbar": {
             "outlinewidth": 0,
             "ticks": ""
            },
            "colorscale": [
             [
              0,
              "#0d0887"
             ],
             [
              0.1111111111111111,
              "#46039f"
             ],
             [
              0.2222222222222222,
              "#7201a8"
             ],
             [
              0.3333333333333333,
              "#9c179e"
             ],
             [
              0.4444444444444444,
              "#bd3786"
             ],
             [
              0.5555555555555556,
              "#d8576b"
             ],
             [
              0.6666666666666666,
              "#ed7953"
             ],
             [
              0.7777777777777778,
              "#fb9f3a"
             ],
             [
              0.8888888888888888,
              "#fdca26"
             ],
             [
              1,
              "#f0f921"
             ]
            ],
            "type": "histogram2d"
           }
          ],
          "histogram2dcontour": [
           {
            "colorbar": {
             "outlinewidth": 0,
             "ticks": ""
            },
            "colorscale": [
             [
              0,
              "#0d0887"
             ],
             [
              0.1111111111111111,
              "#46039f"
             ],
             [
              0.2222222222222222,
              "#7201a8"
             ],
             [
              0.3333333333333333,
              "#9c179e"
             ],
             [
              0.4444444444444444,
              "#bd3786"
             ],
             [
              0.5555555555555556,
              "#d8576b"
             ],
             [
              0.6666666666666666,
              "#ed7953"
             ],
             [
              0.7777777777777778,
              "#fb9f3a"
             ],
             [
              0.8888888888888888,
              "#fdca26"
             ],
             [
              1,
              "#f0f921"
             ]
            ],
            "type": "histogram2dcontour"
           }
          ],
          "mesh3d": [
           {
            "colorbar": {
             "outlinewidth": 0,
             "ticks": ""
            },
            "type": "mesh3d"
           }
          ],
          "parcoords": [
           {
            "line": {
             "colorbar": {
              "outlinewidth": 0,
              "ticks": ""
             }
            },
            "type": "parcoords"
           }
          ],
          "pie": [
           {
            "automargin": true,
            "type": "pie"
           }
          ],
          "scatter": [
           {
            "fillpattern": {
             "fillmode": "overlay",
             "size": 10,
             "solidity": 0.2
            },
            "type": "scatter"
           }
          ],
          "scatter3d": [
           {
            "line": {
             "colorbar": {
              "outlinewidth": 0,
              "ticks": ""
             }
            },
            "marker": {
             "colorbar": {
              "outlinewidth": 0,
              "ticks": ""
             }
            },
            "type": "scatter3d"
           }
          ],
          "scattercarpet": [
           {
            "marker": {
             "colorbar": {
              "outlinewidth": 0,
              "ticks": ""
             }
            },
            "type": "scattercarpet"
           }
          ],
          "scattergeo": [
           {
            "marker": {
             "colorbar": {
              "outlinewidth": 0,
              "ticks": ""
             }
            },
            "type": "scattergeo"
           }
          ],
          "scattergl": [
           {
            "marker": {
             "colorbar": {
              "outlinewidth": 0,
              "ticks": ""
             }
            },
            "type": "scattergl"
           }
          ],
          "scattermapbox": [
           {
            "marker": {
             "colorbar": {
              "outlinewidth": 0,
              "ticks": ""
             }
            },
            "type": "scattermapbox"
           }
          ],
          "scatterpolar": [
           {
            "marker": {
             "colorbar": {
              "outlinewidth": 0,
              "ticks": ""
             }
            },
            "type": "scatterpolar"
           }
          ],
          "scatterpolargl": [
           {
            "marker": {
             "colorbar": {
              "outlinewidth": 0,
              "ticks": ""
             }
            },
            "type": "scatterpolargl"
           }
          ],
          "scatterternary": [
           {
            "marker": {
             "colorbar": {
              "outlinewidth": 0,
              "ticks": ""
             }
            },
            "type": "scatterternary"
           }
          ],
          "surface": [
           {
            "colorbar": {
             "outlinewidth": 0,
             "ticks": ""
            },
            "colorscale": [
             [
              0,
              "#0d0887"
             ],
             [
              0.1111111111111111,
              "#46039f"
             ],
             [
              0.2222222222222222,
              "#7201a8"
             ],
             [
              0.3333333333333333,
              "#9c179e"
             ],
             [
              0.4444444444444444,
              "#bd3786"
             ],
             [
              0.5555555555555556,
              "#d8576b"
             ],
             [
              0.6666666666666666,
              "#ed7953"
             ],
             [
              0.7777777777777778,
              "#fb9f3a"
             ],
             [
              0.8888888888888888,
              "#fdca26"
             ],
             [
              1,
              "#f0f921"
             ]
            ],
            "type": "surface"
           }
          ],
          "table": [
           {
            "cells": {
             "fill": {
              "color": "#EBF0F8"
             },
             "line": {
              "color": "white"
             }
            },
            "header": {
             "fill": {
              "color": "#C8D4E3"
             },
             "line": {
              "color": "white"
             }
            },
            "type": "table"
           }
          ]
         },
         "layout": {
          "annotationdefaults": {
           "arrowcolor": "#2a3f5f",
           "arrowhead": 0,
           "arrowwidth": 1
          },
          "autotypenumbers": "strict",
          "coloraxis": {
           "colorbar": {
            "outlinewidth": 0,
            "ticks": ""
           }
          },
          "colorscale": {
           "diverging": [
            [
             0,
             "#8e0152"
            ],
            [
             0.1,
             "#c51b7d"
            ],
            [
             0.2,
             "#de77ae"
            ],
            [
             0.3,
             "#f1b6da"
            ],
            [
             0.4,
             "#fde0ef"
            ],
            [
             0.5,
             "#f7f7f7"
            ],
            [
             0.6,
             "#e6f5d0"
            ],
            [
             0.7,
             "#b8e186"
            ],
            [
             0.8,
             "#7fbc41"
            ],
            [
             0.9,
             "#4d9221"
            ],
            [
             1,
             "#276419"
            ]
           ],
           "sequential": [
            [
             0,
             "#0d0887"
            ],
            [
             0.1111111111111111,
             "#46039f"
            ],
            [
             0.2222222222222222,
             "#7201a8"
            ],
            [
             0.3333333333333333,
             "#9c179e"
            ],
            [
             0.4444444444444444,
             "#bd3786"
            ],
            [
             0.5555555555555556,
             "#d8576b"
            ],
            [
             0.6666666666666666,
             "#ed7953"
            ],
            [
             0.7777777777777778,
             "#fb9f3a"
            ],
            [
             0.8888888888888888,
             "#fdca26"
            ],
            [
             1,
             "#f0f921"
            ]
           ],
           "sequentialminus": [
            [
             0,
             "#0d0887"
            ],
            [
             0.1111111111111111,
             "#46039f"
            ],
            [
             0.2222222222222222,
             "#7201a8"
            ],
            [
             0.3333333333333333,
             "#9c179e"
            ],
            [
             0.4444444444444444,
             "#bd3786"
            ],
            [
             0.5555555555555556,
             "#d8576b"
            ],
            [
             0.6666666666666666,
             "#ed7953"
            ],
            [
             0.7777777777777778,
             "#fb9f3a"
            ],
            [
             0.8888888888888888,
             "#fdca26"
            ],
            [
             1,
             "#f0f921"
            ]
           ]
          },
          "colorway": [
           "#636efa",
           "#EF553B",
           "#00cc96",
           "#ab63fa",
           "#FFA15A",
           "#19d3f3",
           "#FF6692",
           "#B6E880",
           "#FF97FF",
           "#FECB52"
          ],
          "font": {
           "color": "#2a3f5f"
          },
          "geo": {
           "bgcolor": "white",
           "lakecolor": "white",
           "landcolor": "#E5ECF6",
           "showlakes": true,
           "showland": true,
           "subunitcolor": "white"
          },
          "hoverlabel": {
           "align": "left"
          },
          "hovermode": "closest",
          "mapbox": {
           "style": "light"
          },
          "paper_bgcolor": "white",
          "plot_bgcolor": "#E5ECF6",
          "polar": {
           "angularaxis": {
            "gridcolor": "white",
            "linecolor": "white",
            "ticks": ""
           },
           "bgcolor": "#E5ECF6",
           "radialaxis": {
            "gridcolor": "white",
            "linecolor": "white",
            "ticks": ""
           }
          },
          "scene": {
           "xaxis": {
            "backgroundcolor": "#E5ECF6",
            "gridcolor": "white",
            "gridwidth": 2,
            "linecolor": "white",
            "showbackground": true,
            "ticks": "",
            "zerolinecolor": "white"
           },
           "yaxis": {
            "backgroundcolor": "#E5ECF6",
            "gridcolor": "white",
            "gridwidth": 2,
            "linecolor": "white",
            "showbackground": true,
            "ticks": "",
            "zerolinecolor": "white"
           },
           "zaxis": {
            "backgroundcolor": "#E5ECF6",
            "gridcolor": "white",
            "gridwidth": 2,
            "linecolor": "white",
            "showbackground": true,
            "ticks": "",
            "zerolinecolor": "white"
           }
          },
          "shapedefaults": {
           "line": {
            "color": "#2a3f5f"
           }
          },
          "ternary": {
           "aaxis": {
            "gridcolor": "white",
            "linecolor": "white",
            "ticks": ""
           },
           "baxis": {
            "gridcolor": "white",
            "linecolor": "white",
            "ticks": ""
           },
           "bgcolor": "#E5ECF6",
           "caxis": {
            "gridcolor": "white",
            "linecolor": "white",
            "ticks": ""
           }
          },
          "title": {
           "x": 0.05
          },
          "xaxis": {
           "automargin": true,
           "gridcolor": "white",
           "linecolor": "white",
           "ticks": "",
           "title": {
            "standoff": 15
           },
           "zerolinecolor": "white",
           "zerolinewidth": 2
          },
          "yaxis": {
           "automargin": true,
           "gridcolor": "white",
           "linecolor": "white",
           "ticks": "",
           "title": {
            "standoff": 15
           },
           "zerolinecolor": "white",
           "zerolinewidth": 2
          }
         }
        }
       }
      }
     },
     "metadata": {},
     "output_type": "display_data"
    }
   ],
   "source": [
    "import plotly.graph_objects as go\n",
    "\n",
    "fig3 = go.Figure(data = [\n",
    "        go.Scatter3d(\n",
    "            x=event_df['x'].to_numpy(), y=event_df['y'].to_numpy(), z=event_df['z'].to_numpy(),\n",
    "            mode='markers',\n",
    "            marker=dict(size=5, color=event_df['time'].to_numpy(), opacity=1),\n",
    "            name=\"Detected\"\n",
    "        ),\n",
    "        go.Scatter3d(\n",
    "            x=line[:,0], y=line[:,1], z=line[:,2],\n",
    "            marker=dict(\n",
    "                size=4,\n",
    "                color='red',\n",
    "            ),\n",
    "            line=dict(\n",
    "                color='red',\n",
    "                width=3\n",
    "            ),\n",
    "            name=\"Predicted\"\n",
    "        ),\n",
    "        go.Scatter3d(\n",
    "            x=truth_trace[:,0], y=truth_trace[:,1], z=truth_trace[:,2],\n",
    "            marker=dict(\n",
    "                size=4,\n",
    "                color='green',\n",
    "            ),\n",
    "            line=dict(\n",
    "                color='green',\n",
    "                width=3\n",
    "            ),\n",
    "            name=\"Truth\"\n",
    "        )\n",
    "    ],\n",
    "    \n",
    "    )\n",
    "# Add a legend\n",
    "fig3.update_layout(showlegend=True, legend=dict(x=0, y=1))\n",
    "\n",
    "fig3.show()"
   ]
  },
  {
   "cell_type": "code",
   "execution_count": null,
   "metadata": {},
   "outputs": [],
   "source": []
  },
  {
   "cell_type": "code",
   "execution_count": 40,
   "metadata": {},
   "outputs": [],
   "source": [
    "from utils import angular_dist_score"
   ]
  },
  {
   "cell_type": "code",
   "execution_count": 41,
   "metadata": {},
   "outputs": [
    {
     "data": {
      "text/html": [
       "<div>\n",
       "<style scoped>\n",
       "    .dataframe tbody tr th:only-of-type {\n",
       "        vertical-align: middle;\n",
       "    }\n",
       "\n",
       "    .dataframe tbody tr th {\n",
       "        vertical-align: top;\n",
       "    }\n",
       "\n",
       "    .dataframe thead th {\n",
       "        text-align: right;\n",
       "    }\n",
       "</style>\n",
       "<table border=\"1\" class=\"dataframe\">\n",
       "  <thead>\n",
       "    <tr style=\"text-align: right;\">\n",
       "      <th></th>\n",
       "      <th>batch_id</th>\n",
       "      <th>event_id</th>\n",
       "      <th>first_pulse_index</th>\n",
       "      <th>last_pulse_index</th>\n",
       "      <th>azimuth</th>\n",
       "      <th>zenith</th>\n",
       "    </tr>\n",
       "  </thead>\n",
       "  <tbody>\n",
       "    <tr>\n",
       "      <th>0</th>\n",
       "      <td>1</td>\n",
       "      <td>24</td>\n",
       "      <td>0</td>\n",
       "      <td>60</td>\n",
       "      <td>5.029555</td>\n",
       "      <td>2.087498</td>\n",
       "    </tr>\n",
       "  </tbody>\n",
       "</table>\n",
       "</div>"
      ],
      "text/plain": [
       "   batch_id  event_id  first_pulse_index  last_pulse_index   azimuth    zenith\n",
       "0         1        24                  0                60  5.029555  2.087498"
      ]
     },
     "execution_count": 41,
     "metadata": {},
     "output_type": "execute_result"
    }
   ],
   "source": [
    "train_metadata"
   ]
  },
  {
   "cell_type": "code",
   "execution_count": 42,
   "metadata": {},
   "outputs": [
    {
     "data": {
      "text/plain": [
       "(0.2711606932818947, -0.8260880094077094, -0.4940146547742188)"
      ]
     },
     "execution_count": 42,
     "metadata": {},
     "output_type": "execute_result"
    }
   ],
   "source": [
    "x,y,z"
   ]
  },
  {
   "cell_type": "code",
   "execution_count": 43,
   "metadata": {},
   "outputs": [
    {
     "data": {
      "text/plain": [
       "(-1.2536306737895189, 2.0874975005610428)"
      ]
     },
     "execution_count": 43,
     "metadata": {},
     "output_type": "execute_result"
    }
   ],
   "source": [
    "azimuth = math.atan2(y, x)\n",
    "zenith = math.acos(z)\n",
    "azimuth, zenith"
   ]
  },
  {
   "cell_type": "code",
   "execution_count": null,
   "metadata": {},
   "outputs": [],
   "source": []
  },
  {
   "cell_type": "code",
   "execution_count": null,
   "metadata": {},
   "outputs": [],
   "source": []
  }
 ],
 "metadata": {
  "kernelspec": {
   "display_name": "KAG_IC_NEU",
   "language": "python",
   "name": "python3"
  },
  "language_info": {
   "codemirror_mode": {
    "name": "ipython",
    "version": 3
   },
   "file_extension": ".py",
   "mimetype": "text/x-python",
   "name": "python",
   "nbconvert_exporter": "python",
   "pygments_lexer": "ipython3",
   "version": "3.8.16"
  },
  "orig_nbformat": 4,
  "vscode": {
   "interpreter": {
    "hash": "ad40088d582bffe2fc05846b5516a111df7b25e3d4e8e50a24f706fb2c5c2959"
   }
  }
 },
 "nbformat": 4,
 "nbformat_minor": 2
}
